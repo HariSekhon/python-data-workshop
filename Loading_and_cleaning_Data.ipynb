{
 "metadata": {
  "name": ""
 },
 "nbformat": 3,
 "nbformat_minor": 0,
 "worksheets": [
  {
   "cells": [
    {
     "cell_type": "code",
     "collapsed": false,
     "input": [
      "from pandas import DataFrame\n",
      "import pandas as pd\n",
      "\n",
      "# Load From a CSV\n",
      "september_dataframe = pd.read_csv('./data/september_data.csv') ## read CSV assumes header\n",
      "\n",
      "# Load from the Web (and Json\n"
     ],
     "language": "python",
     "metadata": {},
     "outputs": [],
     "prompt_number": 3
    },
    {
     "cell_type": "code",
     "collapsed": false,
     "input": [
      "import json\n",
      "import requests\n",
      "\n",
      "# Load from the Web (and Json\n",
      "\n",
      "url = 'http://divvybikes.com/stations/json'\n",
      "resp = requests.get(url)\n",
      "\n",
      "data = json.loads(resp.text)\n",
      "stations_metadata = data['stationBeanList']\n",
      "stations_dataFrame = DataFrame(stations_metadata)\n"
     ],
     "language": "python",
     "metadata": {},
     "outputs": [],
     "prompt_number": 14
    },
    {
     "cell_type": "code",
     "collapsed": false,
     "input": [
      "# A quick cleaning example - resampling\n",
      "\n"
     ],
     "language": "python",
     "metadata": {},
     "outputs": []
    }
   ],
   "metadata": {}
  }
 ]
}