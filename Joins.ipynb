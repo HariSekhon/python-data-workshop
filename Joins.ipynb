{
 "metadata": {
  "name": ""
 },
 "nbformat": 3,
 "nbformat_minor": 0,
 "worksheets": [
  {
   "cells": [
    {
     "cell_type": "code",
     "collapsed": false,
     "input": [
      "## Load the Data\n",
      "from pandas import DataFrame\n",
      "import pandas as pd\n",
      "import json\n",
      "import requests\n",
      "# Load From a CSV\n",
      "september_dataframe = pd.read_csv('./data/september_data.csv',names=['station_id','bikes','spaces','total_docks','timestamp']) ## read CSV assumes header"
     ],
     "language": "python",
     "metadata": {},
     "outputs": [],
     "prompt_number": 46
    },
    {
     "cell_type": "code",
     "collapsed": false,
     "input": [
      "# The Web/Location Data\n",
      "url = 'http://divvybikes.com/stations/json'\n",
      "resp = requests.get(url)\n",
      "\n",
      "data = json.loads(resp.text)\n",
      "ldata = data['stationBeanList']\n",
      "\n"
     ],
     "language": "python",
     "metadata": {},
     "outputs": [],
     "prompt_number": 47
    },
    {
     "cell_type": "code",
     "collapsed": false,
     "input": [
      "mergeset = pd.merge(september_dataframe,DataFrame(ldata),left_on='station_id',right_on='id')\n",
      "mergeset.keys()"
     ],
     "language": "python",
     "metadata": {},
     "outputs": [
      {
       "metadata": {},
       "output_type": "pyout",
       "prompt_number": 48,
       "text": [
        "Index([u'station_id', u'bikes', u'spaces', u'total_docks', u'timestamp', u'altitude', u'availableBikes', u'availableDocks', u'city', u'id', u'landMark', u'lastCommunicationTime', u'latitude', u'location', u'longitude', u'postalCode', u'stAddress1', u'stAddress2', u'stationName', u'statusKey', u'statusValue', u'testStation', u'totalDocks'], dtype=object)"
       ]
      }
     ],
     "prompt_number": 48
    },
    {
     "cell_type": "code",
     "collapsed": false,
     "input": [
      "# However this gives me a bunch of things I don't want, ie, the timestamp, avaliableBikes\n",
      "# So let's just get what we want, location and id\n",
      "\n",
      "limited_data = []\n",
      "for station in ldata:\n",
      "    val = {'id':int(station['id']),'latitude':station['latitude'],'longitude':station['longitude'],'location':station['location']}\n",
      "    limited_data.append(val)\n",
      "\n",
      "# and convert it to a DataFrame\n",
      "limited_data = DataFrame(limited_data)"
     ],
     "language": "python",
     "metadata": {},
     "outputs": [],
     "prompt_number": 49
    },
    {
     "cell_type": "code",
     "collapsed": false,
     "input": [
      "#Merge Time\n",
      "correct_mergeset = pd.merge(september_dataframe,limited_data,left_on='station_id',right_on='id')\n",
      "correct_mergeset.keys()\n"
     ],
     "language": "python",
     "metadata": {},
     "outputs": [
      {
       "metadata": {},
       "output_type": "pyout",
       "prompt_number": 50,
       "text": [
        "Index([u'station_id', u'bikes', u'spaces', u'total_docks', u'timestamp', u'id', u'latitude', u'location', u'longitude'], dtype=object)"
       ]
      }
     ],
     "prompt_number": 50
    },
    {
     "cell_type": "code",
     "collapsed": false,
     "input": [
      "# Now Watch -\n",
      "avg_lat = correct_mergeset['latitude'].mean()\n",
      "avg_long = correct_mergeset['longtude'].mean()\n",
      "\n"
     ],
     "language": "python",
     "metadata": {},
     "outputs": [],
     "prompt_number": 50
    }
   ],
   "metadata": {}
  }
 ]
}