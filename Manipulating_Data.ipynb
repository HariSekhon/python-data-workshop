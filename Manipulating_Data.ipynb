{
 "metadata": {
  "name": ""
 },
 "nbformat": 3,
 "nbformat_minor": 0,
 "worksheets": [
  {
   "cells": [
    {
     "cell_type": "code",
     "collapsed": false,
     "input": [
      "from pandas import DataFrame\n",
      "import pandas as pd\n",
      "\n",
      "# Load From a CSV\n",
      "september_dataframe = pd.read_csv('./data/september_data.csv',names=['station_id','bikes','spaces','total_docks','timestamp']) ## read CSV assumes header\n",
      "\n",
      "# Load from the Web (and Json\n"
     ],
     "language": "python",
     "metadata": {},
     "outputs": [],
     "prompt_number": 25
    },
    {
     "cell_type": "code",
     "collapsed": false,
     "input": [
      "import json\n",
      "import requests\n",
      "\n",
      "# Load from the Web (and Json\n",
      "\n",
      "url = 'http://divvybikes.com/stations/json'\n",
      "resp = requests.get(url)\n",
      "\n",
      "data = json.loads(resp.text)\n",
      "stations_metadata = data['stationBeanList']\n",
      "stations_dataFrame = DataFrame(stations_metadata)\n"
     ],
     "language": "python",
     "metadata": {},
     "outputs": [],
     "prompt_number": 26
    },
    {
     "cell_type": "code",
     "collapsed": false,
     "input": [
      "# A quick cleaning example - Sorting\n",
      "\n",
      "september_dataframe.sort_index(by='timestamp')\n",
      "\n"
     ],
     "language": "python",
     "metadata": {},
     "outputs": [
      {
       "html": [
        "<pre>\n",
        "&lt;class 'pandas.core.frame.DataFrame'&gt;\n",
        "Int64Index: 10091043 entries, 9227155 to 9226774\n",
        "Columns: 5 entries, station_id to timestamp\n",
        "dtypes: int64(4), object(1)\n",
        "</pre>"
       ],
       "metadata": {},
       "output_type": "pyout",
       "prompt_number": 30,
       "text": [
        "<class 'pandas.core.frame.DataFrame'>\n",
        "Int64Index: 10091043 entries, 9227155 to 9226774\n",
        "Columns: 5 entries, station_id to timestamp\n",
        "dtypes: int64(4), object(1)"
       ]
      }
     ],
     "prompt_number": 30
    },
    {
     "cell_type": "code",
     "collapsed": false,
     "input": [],
     "language": "python",
     "metadata": {},
     "outputs": []
    }
   ],
   "metadata": {}
  }
 ]
}