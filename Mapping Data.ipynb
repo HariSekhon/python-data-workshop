{
 "metadata": {
  "name": ""
 },
 "nbformat": 3,
 "nbformat_minor": 0,
 "worksheets": [
  {
   "cells": [
    {
     "cell_type": "code",
     "collapsed": false,
     "input": [
      "# Let's place the Divvy Stations on a map\n",
      "#Load the data\n",
      "import requests\n",
      "import json\n",
      "from pandas import DataFrame\n",
      "import pandas as pd\n",
      "\n",
      "url = 'http://divvybikes.com/stations/json'\n",
      "resp = requests.get(url)\n",
      "\n",
      "data = json.loads(resp.text)\n",
      "stations_metadata = data['stationBeanList']\n",
      "stations_dataFrame = DataFrame(stations_metadata)"
     ],
     "language": "python",
     "metadata": {},
     "outputs": [],
     "prompt_number": 2
    },
    {
     "cell_type": "code",
     "collapsed": false,
     "input": [],
     "language": "python",
     "metadata": {},
     "outputs": []
    }
   ],
   "metadata": {}
  }
 ]
}