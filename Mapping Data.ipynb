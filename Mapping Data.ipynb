{
 "metadata": {
  "name": ""
 },
 "nbformat": 3,
 "nbformat_minor": 0,
 "worksheets": [
  {
   "cells": [
    {
     "cell_type": "code",
     "collapsed": false,
     "input": [
      "# Let's place the Divvy Stations on a map\n",
      "#Load the data\n",
      "import requests\n",
      "import json\n",
      "from pandas import DataFrame\n",
      "import pandas as pd\n",
      "\n",
      "url = 'http://divvybikes.com/stations/json'\n",
      "resp = requests.get(url)\n",
      "\n",
      "data = json.loads(resp.text)\n",
      "stations_metadata = data['stationBeanList']\n",
      "stations_dataframe = DataFrame(stations_metadata)"
     ],
     "language": "python",
     "metadata": {},
     "outputs": [],
     "prompt_number": 18
    },
    {
     "cell_type": "code",
     "collapsed": false,
     "input": [
      "# now, importing the basemap\n",
      "from mpl_toolkits.basemap import Basemap\n",
      "import matplotlib.pyplot as plt\n"
     ],
     "language": "python",
     "metadata": {},
     "outputs": [],
     "prompt_number": 4
    },
    {
     "cell_type": "code",
     "collapsed": false,
     "input": [
      "def basic_map(ax=None,lllat=41.75,urlat=42,\n",
      "              lllon=-88,urlon=-87.5):\n",
      "    ##create polor sterographic Basemap instance\n",
      "    m = Basemap(ax=ax, projection='stere',\n",
      "                lon_0=(urlon + lllon) / 2,\n",
      "                lat_0=(urlat + lllat) / 2,\n",
      "                llcrnrlat = lllat, urcrnrlat=urlat,\n",
      "                llcrnrlon = lllon, urcrnrlon = urlon,\n",
      "                resolution = 'f')\n",
      "    m.drawcoastlines()\n",
      "    m.drawstates()\n",
      "    m.drawcountries()\n",
      "    return m\n",
      "m = basic_map()\n",
      "\n"
     ],
     "language": "python",
     "metadata": {},
     "outputs": [
      {
       "metadata": {},
       "output_type": "display_data",
       "png": "[encoded data removed]",
       "text": [
        "<matplotlib.figure.Figure at 0x100447b10>"
       ]
      }
     ],
     "prompt_number": 29
    },
    {
     "cell_type": "code",
     "collapsed": false,
     "input": [
      "#stations_dataframe.describe\n",
      "for index, row in stations_dataframe.iterrows():\n",
      "    x,y = m(row['longitude'], row['latitude'])\n",
      "    m.plot(x,y,'k.',alpha=1)"
     ],
     "language": "python",
     "metadata": {},
     "outputs": [
      {
       "metadata": {},
       "output_type": "display_data",
       "png": "[encoded data removed]",
       "text": [
        "<matplotlib.figure.Figure at 0x1079f8210>"
       ]
      }
     ],
     "prompt_number": 31
    },
    {
     "cell_type": "code",
     "collapsed": false,
     "input": [],
     "language": "python",
     "metadata": {},
     "outputs": []
    }
   ],
   "metadata": {}
  }
 ]
}